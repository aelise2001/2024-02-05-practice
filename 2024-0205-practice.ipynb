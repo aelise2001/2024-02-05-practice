{
 "cells": [
  {
   "cell_type": "markdown",
   "id": "dcc3f02d",
   "metadata": {},
   "source": [
    "# variable section"
   ]
  },
  {
   "cell_type": "code",
   "execution_count": 1,
   "id": "fa6b11ad",
   "metadata": {},
   "outputs": [],
   "source": [
    "chicago_murders = 762\n",
    "los_angeles_murders= 294\n",
    "new_york_murders = 334\n",
    "san_jose_murders = 47\n",
    "chicago_pop= 2_705_000\n",
    "los_angeles_pop = 3_976_000\n",
    "new_york_pop = 8_538_000\n",
    "san_jose_pop = 1_025_000"
   ]
  },
  {
   "cell_type": "code",
   "execution_count": 2,
   "id": "1df6b4c6",
   "metadata": {},
   "outputs": [
    {
     "data": {
      "text/plain": [
       "762"
      ]
     },
     "execution_count": 2,
     "metadata": {},
     "output_type": "execute_result"
    }
   ],
   "source": [
    "chicago_murders"
   ]
  },
  {
   "cell_type": "code",
   "execution_count": 11,
   "id": "6629039b",
   "metadata": {},
   "outputs": [],
   "source": [
    "chi_per= (chicago_murders/chicago_pop) *100_000\n",
    "los_per= (los_angeles_murders/los_angeles_pop) *100_000\n",
    "new_per = (new_york_murders/new_york_pop )*100_000\n",
    "san_per= (san_jose_murders/san_jose_pop)* 100_000"
   ]
  },
  {
   "cell_type": "code",
   "execution_count": 12,
   "id": "c27c7a57",
   "metadata": {},
   "outputs": [
    {
     "data": {
      "text/plain": [
       "28.170055452865068"
      ]
     },
     "execution_count": 12,
     "metadata": {},
     "output_type": "execute_result"
    }
   ],
   "source": [
    "chi_per"
   ]
  },
  {
   "cell_type": "code",
   "execution_count": 13,
   "id": "b3bb9386",
   "metadata": {},
   "outputs": [
    {
     "data": {
      "text/plain": [
       "7.394366197183098"
      ]
     },
     "execution_count": 13,
     "metadata": {},
     "output_type": "execute_result"
    }
   ],
   "source": [
    "los_per"
   ]
  },
  {
   "cell_type": "code",
   "execution_count": 14,
   "id": "eac62855",
   "metadata": {},
   "outputs": [
    {
     "data": {
      "text/plain": [
       "3.911923167018037"
      ]
     },
     "execution_count": 14,
     "metadata": {},
     "output_type": "execute_result"
    }
   ],
   "source": [
    "new_per"
   ]
  },
  {
   "cell_type": "code",
   "execution_count": 15,
   "id": "f20774e2",
   "metadata": {},
   "outputs": [
    {
     "data": {
      "text/plain": [
       "4.585365853658536"
      ]
     },
     "execution_count": 15,
     "metadata": {},
     "output_type": "execute_result"
    }
   ],
   "source": [
    "san_per"
   ]
  },
  {
   "cell_type": "code",
   "execution_count": 22,
   "id": "fb80f113",
   "metadata": {},
   "outputs": [
    {
     "name": "stdout",
     "output_type": "stream",
     "text": [
      "New York City has a murder rate of 3.911923167018037 per 100K while Chicago has a rate of 28.170055452865068 per 100K\n"
     ]
    }
   ],
   "source": [
    "print ( f\"New York City has a murder rate of \\\n",
    "{new_per} per 100K\\\n",
    " while Chicago has a rate of {chi_per} per 100K\")"
   ]
  },
  {
   "cell_type": "code",
   "execution_count": null,
   "id": "6053c790",
   "metadata": {},
   "outputs": [],
   "source": []
  }
 ],
 "metadata": {
  "kernelspec": {
   "display_name": "Python 3 (ipykernel)",
   "language": "python",
   "name": "python3"
  },
  "language_info": {
   "codemirror_mode": {
    "name": "ipython",
    "version": 3
   },
   "file_extension": ".py",
   "mimetype": "text/x-python",
   "name": "python",
   "nbconvert_exporter": "python",
   "pygments_lexer": "ipython3",
   "version": "3.11.5"
  }
 },
 "nbformat": 4,
 "nbformat_minor": 5
}
